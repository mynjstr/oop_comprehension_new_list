{
 "cells": [
  {
   "cell_type": "markdown",
   "id": "4a2059a5-b0ce-49a1-8507-7a8def78a948",
   "metadata": {},
   "source": [
    "## Lab exercise 2\n",
    "\n",
    "Using comprehension,create a new list of tuples from two given lists:\n",
    "\n",
    "### sample calls\n",
    "\n",
    "list1[1,2,3]\n",
    "list2[\"mark\",\"alice\",\"john]\n",
    "\n",
    "result: listOfTuple[(1,\"mark\"),(2,\"alice\"),(3,\"john\")] "
   ]
  },
  {
   "cell_type": "code",
   "execution_count": 1,
   "id": "9b5cc1f9-e50b-4c70-b8ee-4693fb747040",
   "metadata": {},
   "outputs": [
    {
     "name": "stdout",
     "output_type": "stream",
     "text": [
      "[(1, 'Vincent'), (2, 'Peter'), (3, 'Loki'), (4, 'Alipede'), (5, 'Raphael')]\n"
     ]
    }
   ],
   "source": [
    "#solution here\n",
    "class new_list_creator:\n",
    "    def __init__(self, first_list, second_list):\n",
    "        self.first_list = first_list\n",
    "        self.second_list = second_list\n",
    "\n",
    "    def create_new_list(self):\n",
    "        return [(num, name) for num, name in zip(self.first_list, self.second_list)]\n",
    "    \n",
    "list_one = [1, 2, 3, 4, 5]\n",
    "list_two = [\"Vincent\", \"Peter\", \"Loki\", \"Alipede\", \"Raphael\"]\n",
    "\n",
    "list_input = new_list_creator(list_one, list_two)\n",
    "\n",
    "create_list_new = list_input.create_new_list()\n",
    "print(create_list_new)\n",
    "        "
   ]
  },
  {
   "cell_type": "code",
   "execution_count": null,
   "id": "74a6799e-c494-446a-b610-bbbc4ef66d29",
   "metadata": {},
   "outputs": [],
   "source": []
  }
 ],
 "metadata": {
  "kernelspec": {
   "display_name": "Python 3 (ipykernel)",
   "language": "python",
   "name": "python3"
  },
  "language_info": {
   "codemirror_mode": {
    "name": "ipython",
    "version": 3
   },
   "file_extension": ".py",
   "mimetype": "text/x-python",
   "name": "python",
   "nbconvert_exporter": "python",
   "pygments_lexer": "ipython3",
   "version": "3.12.1"
  }
 },
 "nbformat": 4,
 "nbformat_minor": 5
}
